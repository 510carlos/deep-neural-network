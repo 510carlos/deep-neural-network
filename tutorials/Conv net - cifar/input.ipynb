{
 "cells": [
  {
   "cell_type": "code",
   "execution_count": 1,
   "metadata": {
    "collapsed": true,
    "deletable": true,
    "editable": true
   },
   "outputs": [],
   "source": [
    "import os\n",
    "from six.moves import xrange\n",
    "import tensorflow as tf"
   ]
  },
  {
   "cell_type": "markdown",
   "metadata": {
    "deletable": true,
    "editable": true
   },
   "source": []
  },
  {
   "cell_type": "code",
   "execution_count": 2,
   "metadata": {
    "collapsed": true,
    "deletable": true,
    "editable": true
   },
   "outputs": [],
   "source": [
    "IMAGE_SIZE = 24\n",
    "NUM_CLASSES = 10\n",
    "NUM_EXAMPLES_PER_EPOCH_FOR_TRAIN = 50000\n",
    "NUM_EXAMPLES_PER_EPOCH_FOR_EVAL = 10000"
   ]
  },
  {
   "cell_type": "code",
   "execution_count": 3,
   "metadata": {
    "collapsed": true,
    "deletable": true,
    "editable": true
   },
   "outputs": [],
   "source": [
    "def read_cifar10(filename_queue):\n",
    "    \"\"\"Reads and parse examples from CIFAR data files\"\"\"\n",
    "    class CIFAR10Record(object):\n",
    "        pass\n",
    "    result = CIFAR10Record()\n",
    "    \n",
    "    # demensions of the images in CIFAR\n",
    "    label_bytes = result.height * result.width * result.depth\n",
    "    record_bytes = label_bytes + image_bytes\n",
    "    \n",
    "    reader = tf.FixedLengthRecordReader(record_bytes=record_bytes)\n",
    "    result.key, value = reader.read(filename_queue)\n",
    "    \n",
    "    #convert from string to vector\n",
    "    record_bytes = tf.decode_raw(value, tf.unit8)\n",
    "    \n",
    "    # the first byte is the label. We convert from 8 -> 32 int\n",
    "    result.label = tf.cast(\n",
    "        tf.strided_slice(record_bytes, [0], [label_bytes]), tf.int32)\n",
    "    \n",
    "    # remaining bytes after label are the image\n",
    "    # from [depth * height * width] to [depth, height, width]\n",
    "    depth_major = tf.reshape(\n",
    "        tf.strided_slice(record_bytes, [label_bytes],\n",
    "                        [label_bytes + image_bytes]),\n",
    "        [result.depth, result.height, result.width])\n",
    "    \n",
    "    # convert from [depth, height, width] to [height, width, depth]\n",
    "    result.uint8image = tf.transpose(depth_major, [1, 2, 0])\n",
    "    \n",
    "    return result"
   ]
  },
  {
   "cell_type": "code",
   "execution_count": 4,
   "metadata": {
    "collapsed": true,
    "deletable": true,
    "editable": true
   },
   "outputs": [],
   "source": [
    "def _generate_image_and_label_batch(image, label, min_queue_examples, batch_size, shuffle):\n",
    "    \"\"\"Contruct a queue batch of images and labels\"\"\"\n",
    "    num_preproccess_threads = 8\n",
    "    if shuffle:\n",
    "        images, label_batch = tf.train.shuffle_batch(\n",
    "            [images, label],\n",
    "            batch_size=batch_size,\n",
    "            num_threads=num_preprocess_threads,\n",
    "            capacity=min_queue_examples + 3 * batch_size,\n",
    "            min_after_dequeue=min_queue_examples)\n",
    "    else:\n",
    "        images, label_batch = tf.train.batch(\n",
    "            [images, label],\n",
    "            batch_size=batch_size,\n",
    "            num_threads=num_preprocess_threads,\n",
    "            capacity=min_queue_examples + 3 * batch_size)\n",
    "        \n",
    "    # display the training images in the visualizer\n",
    "    tf.summary.image('image', images)\n",
    "    \n",
    "    return images, tf.reshape(label_batch, [batch_size])"
   ]
  },
  {
   "cell_type": "code",
   "execution_count": 6,
   "metadata": {
    "collapsed": false,
    "deletable": true,
    "editable": true
   },
   "outputs": [],
   "source": [
    "def distorted_inputs(data_dir, batch_size):\n",
    "    \"\"\"Construct distorted input \"\"\"\n",
    "    filenames = [os.path.join(data_dir, 'data_batch%d.bin' % 1)\n",
    "                for i in xrange(1,6)]\n",
    "    for f in firlenames:\n",
    "        if not tf.gfile.Exist(f):\n",
    "            raise ValueError('Failed to locate file'+f)\n",
    "            \n",
    "    # create a queue thay produces the files names to read\n",
    "    filename_queue = tf.train.string_input_producer(filenames)\n",
    "    \n",
    "    # read examples from files in the filenames to queue\n",
    "    read_inpuut = read_cifar10(final_queue)\n",
    "    reshape_image = tf.cast(read_input.uint8image, tf.float32)\n",
    "    \n",
    "    height = IMAGE_SIZE\n",
    "    width = IMAGE_SIZE\n",
    "    \n",
    "    # image processing for training the network. \n",
    "    # adding distortion\n",
    "    \n",
    "    #randomly crop a height width section of the image\n",
    "    distorted_image = tf.random_crop(reshaped_image, [height, width, 3])\n",
    "    \n",
    "    #randomly flip the image horizontally\n",
    "    distorted_image = tf.image.random_flip_left_right(distorted_image)\n",
    "    \n",
    "    #becase there operations are not communtative consider randomizing\n",
    "    distorted_image = tf.image.random_brightness(distorted_image,\n",
    "                                                max_delta=63)\n",
    "    \n",
    "    distorted_image = tf.image.random_contrast(distorted_image,\n",
    "                                              lower=0.2, upper=1.0)\n",
    "    # subtract off the mean and divide by the variance of the pixels\n",
    "    float_image = tf.image.per_image_standardization(distorted_image)\n",
    "    \n",
    "    # set the shapes of tensor\n",
    "    float_image.set_shape([height, width, 3])\n",
    "    read_input.label.set_shape([1])\n",
    "    \n",
    "    # Ensure that the random shuffling has good msxing properties\n",
    "    min_fraction_of_examples_in_queue = 0.4\n",
    "    min_queue_examples = int(NUM_EXAMPLES_PER_EPOCH_FOR_TRAIN *\n",
    "                            min_fraction_of_examples_in_queue)\n",
    "    \n",
    "    print ('Filling queue with %d CIFAR images before starting to train. '\n",
    "         'This will take a few minutes.' % min_queue_examples)\n",
    "    \n",
    "    # generate a batch of images and labels by building  up a queue of examples\n",
    "    \n",
    "    return _generate_image_and_label_batch(float_image, read_input.label,\n",
    "                                          min_queue_examples, batch_size,\n",
    "                                          suffle=True)\n"
   ]
  },
  {
   "cell_type": "code",
   "execution_count": 7,
   "metadata": {
    "collapsed": true,
    "deletable": true,
    "editable": true
   },
   "outputs": [],
   "source": [
    "def inputs(eval_data, data_dir, batch_Size):\n",
    "    \"\"\"Contruct input for CIFAR evaluation using the reader ops\"\"\"\n",
    "    if not eval_data:\n",
    "        filenames = [os.path.join(data_dir, 'data_batch_%d.bin' % i)\n",
    "                     for i in xrange(1, 6)]\n",
    "        num_examples_per_epoch = NUM_EXAMPLES_PER_EPOCH_FOR_TRAIN\n",
    "    else:\n",
    "        filenames = [os.path.join(data_dir, 'test_batch.bin')]\n",
    "        num_examples_per_epoch = NUM_EXAMPLES_PER_EPOCH_FOR_EVAL\n",
    "\n",
    "    for f in filenames:\n",
    "        if not tf.gfile.Exists(f):\n",
    "            raise ValueError('Failed to find file: '+f)\n",
    "            \n",
    "    # create a queue that produces filenames to read\n",
    "    filename_queue = tf.train.string_input_producer(filenames)\n",
    "    \n",
    "    # read examples from files in the filename queue\n",
    "    read_input = read_cifar10(filename_queue)\n",
    "    reshaped_image = tf.cast(read_input.uint8image, tf.float32)\n",
    "    \n",
    "    height = IMAGE_SIZE\n",
    "    width = IMAGE_SIZE\n",
    "    \n",
    "    # Image processing for evaluation\n",
    "    # crop the central [height, width] of the image\n",
    "    resized_image = tf.image.resize_image_with_cropt_or_pad(reshaped_image,\n",
    "                                                            width, height)\n",
    "    \n",
    "    # subtract off the mean and divice by the varience of the pixels\n",
    "    float_image = tf.image.per_image_standardization(resized_image)\n",
    "    \n",
    "    # Set the shapes of tensors.\n",
    "    float_image.set_shape([height, width, 3])\n",
    "    read_input.label.set_shape([1])\n",
    "                    \n",
    "    # Ensure that the random shuffling has good mixing properties.\n",
    "    min_fraction_of_examples_in_queue = 0.4\n",
    "    min_queue_examples = int(num_examples_per_epoch *\n",
    "                             min_fraction_of_examples_in_queue)\n",
    "    \n",
    "    # Generate a batch of images and labels by building up a queue of examples.\n",
    "    return _generate_image_and_label_batch(float_image, read_input.label,\n",
    "                                           min_queue_examples, batch_size,\n",
    "                                           shuffle=False)"
   ]
  },
  {
   "cell_type": "code",
   "execution_count": null,
   "metadata": {
    "collapsed": true,
    "deletable": true,
    "editable": true
   },
   "outputs": [],
   "source": []
  }
 ],
 "metadata": {
  "kernelspec": {
   "display_name": "Python 2",
   "language": "python",
   "name": "python2"
  },
  "language_info": {
   "codemirror_mode": {
    "name": "ipython",
    "version": 2
   },
   "file_extension": ".py",
   "mimetype": "text/x-python",
   "name": "python",
   "nbconvert_exporter": "python",
   "pygments_lexer": "ipython2",
   "version": "2.7.12"
  }
 },
 "nbformat": 4,
 "nbformat_minor": 2
}
